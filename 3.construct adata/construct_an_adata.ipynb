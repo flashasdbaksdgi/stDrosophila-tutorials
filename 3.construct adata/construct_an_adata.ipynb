{
 "cells": [
  {
   "cell_type": "markdown",
   "metadata": {
    "collapsed": true,
    "pycharm": {
     "name": "#%% md\n"
    }
   },
   "source": [
    "## Construct an AnnData object"
   ]
  },
  {
   "cell_type": "markdown",
   "source": [
    "### 1.Construct an AnnData object suitable for downstream analysis (the following takes bin20 as an example）\n",
    "Here, we will use `sd.io.read_lasso` and `sd.io.lasso2adata`."
   ],
   "metadata": {
    "collapsed": false,
    "pycharm": {
     "name": "#%% md\n"
    }
   }
  },
  {
   "cell_type": "code",
   "execution_count": null,
   "outputs": [],
   "source": [
    "## lasso filename format: xxx_xxx_S01.gem.gz\n",
    "folder = \"/media/yao/Elements SE/BGI_Paper/E16_18_d/E16_18_d_bin20/raw_lasso\"\n",
    "opath = \"/media/yao/Elements SE/BGI_Paper/E16_18_d/E16_18_d_bin20/raw_adata\"\n",
    "slice_col=\"slice\"\n",
    "z_gap = 7\n",
    "# ----------------------------------------------------------------------------------------------------------------------\n",
    "import os\n",
    "import platform\n",
    "import stDrosophila as sd\n",
    "files = [os.path.join(root, filename)for root, dirs, files in os.walk(folder)for filename in files]\n",
    "files.sort()\n",
    "for file in files:\n",
    "    data = sd.io.read_lasso(filename=file)\n",
    "    file_name = file.split(\"\\\\\") if platform.system() == \"Windows\" else file.split(\"/\")\n",
    "\n",
    "    print(f\"----{file_name} start!\")\n",
    "    adata = sd.io.lasso2adata(data=data, slice=file_name[:-7], z_gap=z_gap, z=int(file_name[-9:-7]))\n",
    "    adata.write_h5ad(os.path.join(opath, f\"{adata.obs[slice_col][0]}.h5ad\"))\n",
    "    print(f\"----{file_name} successfully!\")"
   ],
   "metadata": {
    "collapsed": false,
    "pycharm": {
     "name": "#%%\n"
    }
   }
  },
  {
   "cell_type": "markdown",
   "source": [
    "### 2.Visualize raw coordinate images\n",
    "Here, we will use `sd.pl.spatial_plot`."
   ],
   "metadata": {
    "collapsed": false
   }
  },
  {
   "cell_type": "code",
   "execution_count": null,
   "outputs": [],
   "source": [
    "folder = \"/media/yao/Elements SE/BGI_Paper/L3_new/L3_a/align_adata/L3_a_bin20\"\n",
    "opath = \"/media/yao/Elements SE/BGI_Paper/L3_new/L3_a/align_adata/L3_a_bin20_raw_coords.png\"\n",
    "slice_col=\"slice\"\n",
    "spot_size=1\n",
    "# ----------------------------------------------------------------------------------------------------------------------\n",
    "import os\n",
    "import anndata as ad\n",
    "import stDrosophila as sd\n",
    "files = [os.path.join(root, filename) for root, dirs, files in os.walk(folder) for filename in files]\n",
    "files.sort()\n",
    "adata_list = [ad.read(file) for file in files]\n",
    "sd.pl.spatial_plot(adata=adata_list, cluster_col=None, save=opath, slice_col=slice_col, spot_size=spot_size)"
   ],
   "metadata": {
    "collapsed": false,
    "pycharm": {
     "name": "#%%\n"
    }
   }
  }
 ],
 "metadata": {
  "kernelspec": {
   "display_name": "Python 3",
   "language": "python",
   "name": "python3"
  },
  "language_info": {
   "codemirror_mode": {
    "name": "ipython",
    "version": 2
   },
   "file_extension": ".py",
   "mimetype": "text/x-python",
   "name": "python",
   "nbconvert_exporter": "python",
   "pygments_lexer": "ipython2",
   "version": "2.7.6"
  }
 },
 "nbformat": 4,
 "nbformat_minor": 0
}