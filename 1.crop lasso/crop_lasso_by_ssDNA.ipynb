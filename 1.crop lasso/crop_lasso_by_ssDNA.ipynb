{
 "cells": [
  {
   "cell_type": "markdown",
   "metadata": {
    "collapsed": true,
    "pycharm": {
     "name": "#%% md\n"
    }
   },
   "source": [
    "## cropping lasso file based on ssDNA image (semi-automatic)\n",
    "\n",
    "    This notebook demonstrate:\n",
    "    1. Preprocess the ssDNA image and lasso image through `sd.pp.pre_photo` and `sd.pp.pre_lasso` respectively;\n",
    "    2. Register the image and cut out the required image position through photoshop;\n",
    "    3. Process the lasso matrix with the photoshopped image through `sd.pp.cropbyphoto`."
   ]
  },
  {
   "cell_type": "markdown",
   "source": [
    "## preprocessing\n",
    "\n",
    "### **ssDNA image preprocessing through `sd.pp.pre_photo`：**\n",
    "- img: Original photograph (grayscale).\n",
    "\n",
    "- rectangle_crop: `list` (default: `None`)\n",
    "    If rectangle_crop is None, the image is not cropped.\n",
    "    If rectangle_crop is a list of four elements, the image is cropped. e.g., rectangle_crop=[0,100,100,200].\n",
    "\n",
    "- coords_flip: `int` (default: `None`)\n",
    "    If coords_flip is None, the image is not flipped.\n",
    "    If coords_flip is 0, flipping image along X axis,\n",
    "    If coords_flip is 1, flipping image along Y axis,\n",
    "    If coords_flip is -1, flipping image along XY diagonal.\n",
    "\n",
    "- ehtranfer: `dict` (default: `None`)\n",
    "    The related parameters of histogram equalization. E.g.： ehtranfer={\"method\": \"local\", \"cliplimit\": 15}:\n",
    "    The method includes `global` and `local`；\n",
    "    The cliplimit refers to the threshold used to limit contrast when method is `local`.\n",
    "\n",
    "- color_flip: `bool` (default: `False`)\n",
    "    If color_flip is True, flip the color of the image.\n",
    "\n",
    "- gray_factor: `int` (default: `1`)\n",
    "    Increasing the value in the grayscale image.\n",
    "\n",
    "- show: `bool` (default: `True`)\n",
    "    If show is True, generate a visual window to display the image.\n",
    "\n",
    "- save: `str` (default: `None`)\n",
    "    If save is not None, save is the path to save the image.\n",
    "\n",
    "### **lasso file preprocessing through `sd.pp.pre_lasso`：**\n",
    "- data: Original lasso data.\n",
    "\n",
    "- rectangle_crop: `list` (default: `None`)\n",
    "    If rectangle_crop is None, the image is not cropped.\n",
    "    If rectangle_crop is a list of four elements, the image is cropped. e.g., rectangle_crop=[0,100,100,200].\n",
    "\n",
    "- ehtranfer: `dict` (default: `None`)\n",
    "    The related parameters of histogram equalization.E.g.: ehtranfer={\"method\": \"local\", \"cliplimit\": 15}:\n",
    "    The method includes `global` and `local` ;\n",
    "    The cliplimit refers to the threshold used to limit contrast when method is `local`.\n",
    "\n",
    "- color_flip: `bool` (default: `False`)\n",
    "    If color_flip is True, flip the color of the image.\n",
    "\n",
    "- gray_factor: `int` (default: `1`)\n",
    "     Increasing the value in the grayscale image.\n",
    "\n",
    "- show: `bool` (default: `True`)\n",
    "    If show is True, generate a visual window to display the image.\n",
    "\n",
    "- save_img: `str` (default: `None`)\n",
    "    If save is not None, save is the path to save the image.\n",
    "\n",
    "- save_lasso: `str` (default: `None`)\n",
    "     If save is not None, save is the path to save the lasso data.\n"
   ],
   "metadata": {
    "collapsed": false,
    "pycharm": {
     "name": "#%% md\n"
    }
   }
  },
  {
   "cell_type": "markdown",
   "source": [
    "ssDNA preprocessing"
   ],
   "metadata": {
    "collapsed": false,
    "pycharm": {
     "name": "#%% md\n"
    }
   }
  },
  {
   "cell_type": "code",
   "execution_count": null,
   "outputs": [],
   "source": [
    "import cv2\n",
    "import stDrosophila as sd\n",
    "\n",
    "tif = cv2.imread(\"/media/yao/Elements SE/BGI_Paper/mouse_diaphragm/ssDNA_image/FP200000514BR_C1.tif\", 2)\n",
    "sd.pp.pre_photo(img=tif, rectangle_crop=None, coords_flip=None, ehtranfer={\"method\": \"local\", \"cliplimit\": 15}, show=True, save=\"mouse_diaphragm_C1_tif.tif\")\n"
   ],
   "metadata": {
    "collapsed": false,
    "pycharm": {
     "name": "#%%\n"
    }
   }
  },
  {
   "cell_type": "markdown",
   "source": [
    "lasso preprocessing"
   ],
   "metadata": {
    "collapsed": false,
    "pycharm": {
     "name": "#%% md\n"
    }
   }
  },
  {
   "cell_type": "code",
   "execution_count": null,
   "outputs": [],
   "source": [
    "import pandas as pd\n",
    "import stDrosophila as sd\n",
    "\n",
    "lasso = pd.read_csv(\"/media/yao/Elements SE/BGI_Paper/mouse_diaphragm/lasso_raw/lasso_bin20/mouse_diaphragm_C1.gem.gz\",\n",
    "                    sep=\"\\t\", compression=\"gzip\")\n",
    "sd.pp.pre_lasso(data=lasso, rectangle_crop=None,\n",
    "                ehtranfer={\"method\": \"local\", \"cliplimit\": 10}, gray_factor=None,\n",
    "                show=True,\n",
    "                save_img=\"/media/yao/Elements SE/BGI_Paper/mouse_diaphragm/lasso_pre/mouse_diaphragm_C1_lasso.tif\",\n",
    "                save_lasso=\"/media/yao/Elements SE/BGI_Paper/mouse_diaphragm/lasso_pre/mouse_diaphragm_C1_pre.txt\")\n"
   ],
   "metadata": {
    "collapsed": false,
    "pycharm": {
     "name": "#%%\n"
    }
   }
  },
  {
   "cell_type": "markdown",
   "source": [
    "## Process the lasso matrix with the photoshopped image through `sd.pp.cropbyphoto`.\n",
    "- data: lasso data generated by pre_lasso().\n",
    "- img: Image after photoshop processing (grayscale).\n",
    "- background:  `int` (default: `0`)\n",
    "    Image background color, black is 0, white is 255.\n",
    "- save: `str` (default: `None`)\n",
    "    If save is not None, save is the path to save the lasso data."
   ],
   "metadata": {
    "collapsed": false,
    "pycharm": {
     "name": "#%% md\n"
    }
   }
  },
  {
   "cell_type": "markdown",
   "source": [
    "cropping after photoshop"
   ],
   "metadata": {
    "collapsed": false,
    "pycharm": {
     "name": "#%% md\n"
    }
   }
  },
  {
   "cell_type": "code",
   "execution_count": null,
   "outputs": [],
   "source": [
    "import cv2\n",
    "import pandas as pd\n",
    "import stDrosophila as sd\n",
    "\n",
    "tif = cv2.imread(\"/media/yao/Elements SE/BGI_Paper/mouse_diaphragm/lasso_pre/mouse_diaphragm_C1/img/mouse_diaphragm_C1_ps.tif\", 2)\n",
    "lasso = pd.read_csv(r\"/media/yao/Elements SE/BGI_Paper/mouse_diaphragm/lasso_pre/mouse_diaphragm_C1/mouse_diaphragm_C1_pre.txt\",sep=\"\\t\")\n",
    "new_lasso = sd.pp.cropbyphoto(data=lasso, img=tif, background=255, save=r\"/media/yao/Elements SE/BGI_Paper/mouse_diaphragm/lasso_pre/mouse_diaphragm_C1.txt\")\n",
    "print(new_lasso)"
   ],
   "metadata": {
    "collapsed": false,
    "pycharm": {
     "name": "#%%\n"
    }
   }
  },
  {
   "cell_type": "markdown",
   "source": [
    "visualize cropped lasso"
   ],
   "metadata": {
    "collapsed": false,
    "pycharm": {
     "name": "#%% md\n"
    }
   }
  },
  {
   "cell_type": "code",
   "execution_count": null,
   "outputs": [],
   "source": [
    "import stDrosophila as sd\n",
    "\n",
    "data = sd.io.read_lasso(filename=r\"/media/yao/Elements SE/BGI_Paper/mouse_diaphragm/lasso_pre/mouse_diaphragm_C2.txt\")\n",
    "adata = sd.io.lasso2adata(data=data, slice=\"mouse_diaphragm_C2\", binsize=20)\n",
    "sd.pl.spatial_plot(adata=adata, cluster_col=None,\n",
    "                   save=\"/media/yao/Elements SE/BGI_Paper/mouse_diaphragm/lasso_pre/mouse_diaphragm_C2_coords.png\",\n",
    "                   slice_col=\"slice\", spot_size=1)"
   ],
   "metadata": {
    "collapsed": false,
    "pycharm": {
     "name": "#%%\n"
    }
   }
  }
 ],
 "metadata": {
  "kernelspec": {
   "display_name": "Python 3",
   "language": "python",
   "name": "python3"
  },
  "language_info": {
   "codemirror_mode": {
    "name": "ipython",
    "version": 2
   },
   "file_extension": ".py",
   "mimetype": "text/x-python",
   "name": "python",
   "nbconvert_exporter": "python",
   "pygments_lexer": "ipython2",
   "version": "2.7.6"
  }
 },
 "nbformat": 4,
 "nbformat_minor": 0
}