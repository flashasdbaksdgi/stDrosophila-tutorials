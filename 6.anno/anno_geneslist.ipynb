{
 "cells": [
  {
   "cell_type": "markdown",
   "metadata": {
    "collapsed": true,
    "pycharm": {
     "name": "#%% md\n"
    }
   },
   "source": [
    "## Annotation of genes based on flyaltas2 database\n",
    "\n",
    "Here, we will use sd.tl.genes_flyaltas2 to anno genes. All you need to do is enter a gene list.\n",
    "- genes: The name of a gene, or a list of genes.\n",
    "- gene_nametype : Type of gene name, including `symbol` and `FBgn`.\n",
    "- stage: The developmental stages of Drosophila melanogaster, including `larval`, `female_adult` and `male_adult`.\n",
    "- enrich_threshold: Threshold for filtering enrichment in FlyAtlas 2."
   ]
  },
  {
   "cell_type": "code",
   "execution_count": null,
   "outputs": [],
   "source": [
    "import stDrosophila as sd\n",
    "\n",
    "# enter a gene list\n",
    "genes = ['Adh', 'CG43109', 'Hand']\n",
    "# run sd.tl.genes_flyaltas2\n",
    "anno_genes = sd.tl.genes_flyaltas2(genes=genes, gene_nametype='symbol', stage='male_adult', enrich_threshold=1.0)\n",
    "# save result\n",
    "anno_genes.to_csv('genes_anno.csv', index=False, sep='\\t')\n"
   ],
   "metadata": {
    "collapsed": false,
    "pycharm": {
     "name": "#%%\n"
    }
   }
  }
 ],
 "metadata": {
  "kernelspec": {
   "display_name": "Python 3",
   "language": "python",
   "name": "python3"
  },
  "language_info": {
   "codemirror_mode": {
    "name": "ipython",
    "version": 2
   },
   "file_extension": ".py",
   "mimetype": "text/x-python",
   "name": "python",
   "nbconvert_exporter": "python",
   "pygments_lexer": "ipython2",
   "version": "2.7.6"
  }
 },
 "nbformat": 4,
 "nbformat_minor": 0
}