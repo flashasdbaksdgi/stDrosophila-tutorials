{
 "cells": [
  {
   "cell_type": "markdown",
   "metadata": {
    "collapsed": true,
    "pycharm": {
     "name": "#%% md\n"
    }
   },
   "source": [
    "## convert bin1 data to binX"
   ]
  },
  {
   "cell_type": "code",
   "execution_count": null,
   "outputs": [],
   "source": [
    "## lasso filename format: xxx_xxx_S01.gem.gz\n",
    "# bin1\n",
    "folder = \"/media/yao/Elements SE/BGI_Paper/E16_18_d/E16_18_d_bin1\"\n",
    "# binX (output)\n",
    "opath = \"/media/yao/Elements SE/BGI_Paper/E16_18_d/E16_18_d_bin20\"\n",
    "binx = 20\n",
    "# ----------------------------------------------------------------------------------------------------------------------\n",
    "import os\n",
    "import stDrosophila as sd\n",
    "files = [os.path.join(root, filename)for root, dirs, files in os.walk(folder)for filename in files]\n",
    "files.sort()\n",
    "for file in files:\n",
    "    bin1_data = sd.io.read_lasso(filename=file)\n",
    "    file_name = file.split(\"/\")[-1]\n",
    "    print(f\"----{file_name} start!\")\n",
    "    data = sd.pp.bin1tobinx(bin1_data, binx=binx, save=os.path.join(opath,file_name))\n",
    "    del data\n",
    "    print(f\"----{file_name} successfully!\")"
   ],
   "metadata": {
    "collapsed": false,
    "pycharm": {
     "name": "#%%\n"
    }
   }
  }
 ],
 "metadata": {
  "kernelspec": {
   "display_name": "Python 3",
   "language": "python",
   "name": "python3"
  },
  "language_info": {
   "codemirror_mode": {
    "name": "ipython",
    "version": 2
   },
   "file_extension": ".py",
   "mimetype": "text/x-python",
   "name": "python",
   "nbconvert_exporter": "python",
   "pygments_lexer": "ipython2",
   "version": "2.7.6"
  }
 },
 "nbformat": 4,
 "nbformat_minor": 0
}