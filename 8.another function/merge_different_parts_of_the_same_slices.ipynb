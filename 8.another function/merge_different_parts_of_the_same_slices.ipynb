{
 "cells": [
  {
   "cell_type": "markdown",
   "metadata": {
    "collapsed": true,
    "pycharm": {
     "name": "#%% md\n"
    }
   },
   "source": [
    "## merge different parts of the same slice and save in compressed csv format(.gz)"
   ]
  },
  {
   "cell_type": "code",
   "execution_count": null,
   "outputs": [],
   "source": [
    "files = [\"/media/yao/Elements SE/BGI_Paper/L3_new/L3_a/lasso/lasso_L3_a_bin1_raw/L3_a_S72_1.gem.gz\",\n",
    "         \"/media/yao/Elements SE/BGI_Paper/L3_new/L3_a/lasso/lasso_L3_a_bin1_raw/L3_a_S72_2.gem.gz\"]\n",
    "opath = \"/media/yao/Elements SE/BGI_Paper/L3_new/L3_a/lasso/lasso_L3_a_bin1/L3_a_S72.gem.gz\"\n",
    "# ----------------------------------------------------------------------------------------------------------------------\n",
    "import pandas as pd\n",
    "import stDrosophila as sd\n",
    "concat_data = pd.DataFrame()\n",
    "for file in files:\n",
    "    data = sd.io.read_lasso(filename=file)\n",
    "    concat_data = pd.concat([concat_data, data], axis=0)\n",
    "concat_data.sort_values(by=[\"geneID\", \"x\", \"y\", \"MIDCounts\"], inplace=True)\n",
    "concat_data.to_csv(opath, index=False, sep=\"\\t\")"
   ],
   "metadata": {
    "collapsed": false,
    "pycharm": {
     "name": "#%%\n"
    }
   }
  }
 ],
 "metadata": {
  "kernelspec": {
   "display_name": "Python 3",
   "language": "python",
   "name": "python3"
  },
  "language_info": {
   "codemirror_mode": {
    "name": "ipython",
    "version": 2
   },
   "file_extension": ".py",
   "mimetype": "text/x-python",
   "name": "python",
   "nbconvert_exporter": "python",
   "pygments_lexer": "ipython2",
   "version": "2.7.6"
  }
 },
 "nbformat": 4,
 "nbformat_minor": 0
}