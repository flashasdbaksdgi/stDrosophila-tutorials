{
 "cells": [
  {
   "cell_type": "markdown",
   "metadata": {
    "collapsed": true,
    "pycharm": {
     "name": "#%% md\n"
    }
   },
   "source": [
    "## Registration/Alignment"
   ]
  },
  {
   "cell_type": "markdown",
   "source": [
    "### 1.Basic registration/alignment (It is recommended to run the following code in the .py file)\n",
    "Here, we will use `sd.tl.slice_alignment`."
   ],
   "metadata": {
    "collapsed": false
   }
  },
  {
   "cell_type": "code",
   "execution_count": null,
   "outputs": [],
   "source": [
    "## Enter raw anndata data(slices) and output path\n",
    "folder = \"/media/yao/Elements SE/BGI_Paper/L3_new/L3_a/raw_adata/L3_a_bin20\"\n",
    "opath = \"/media/yao/Elements SE/BGI_Paper/L3_new/L3_a/align_adata/L3_a_bin20\"\n",
    "slice_col=\"slice\"\n",
    "numItermax = 200\n",
    "numItermaxEmd = 1000000\n",
    "# ----------------------------------------------------------------------------------------------------------------------\n",
    "import os\n",
    "import anndata as ad\n",
    "import stDrosophila as sd\n",
    "import torch\n",
    "files = [os.path.join(root, filename) for root, dirs1, files in os.walk(folder) for filename in files]\n",
    "files.sort()\n",
    "slices = [ad.read(file) for file in files]\n",
    "align_slices = sd.tl.slice_alignment(slices, alpha=0.1, numItermax=numItermax, numItermaxEmd=numItermaxEmd,\n",
    "                                     device=torch.device(\"cuda:0\"),verbose=True)\n",
    "if not os.path.exists(opath):\n",
    "    os.mkdir(opath)\n",
    "for slice in align_slices:\n",
    "    subSave = os.path.join(opath, f\"{slice.obs[slice_col][0]}.h5ad\")\n",
    "    slice.write_h5ad(subSave)"
   ],
   "metadata": {
    "collapsed": false,
    "pycharm": {
     "name": "#%%\n"
    }
   }
  },
  {
   "cell_type": "markdown",
   "source": [
    "### 2.Registration/alignment with big bin size (It is recommended to run the following code in the .py file)\n",
    "Here, we will use `sd.tl.slice_alignment_bigBin`."
   ],
   "metadata": {
    "collapsed": false
   }
  },
  {
   "cell_type": "code",
   "execution_count": null,
   "outputs": [],
   "source": [
    "## Enter raw anndata data(slices) and output path\n",
    "folder = \"/media/yao/Elements SE/BGI_Paper/L3_new/L3_a/raw_adata/L3_a_bin20\"\n",
    "opath = \"/media/yao/Elements SE/BGI_Paper/L3_new/L3_a/align_adata/L3_a_bin20\"\n",
    "## Enter raw anndata data(slices_big) and output path\n",
    "folder_big = \"/media/yao/Elements SE/BGI_Paper/L3_new/L3_a/raw_adata/L3_a_bin100\"\n",
    "opath_big = \"/media/yao/Elements SE/BGI_Paper/L3_new/L3_a/align_adata/L3_a_bin100\"\n",
    "\n",
    "slice_col=\"slice\"\n",
    "numItermax = 200\n",
    "numItermaxEmd = 1000000\n",
    "# ----------------------------------------------------------------------------------------------------------------------\n",
    "import os\n",
    "import anndata as ad\n",
    "import stDrosophila as sd\n",
    "import torch\n",
    "# Enter raw anndata data(slices)\n",
    "files = [os.path.join(root, filename) for root, dirs1, files in os.walk(folder) for filename in files]\n",
    "files.sort()\n",
    "slices = [ad.read(file) for file in files]\n",
    "# Enter raw anndata data(slices_big)\n",
    "files_big = [os.path.join(root, filename) for root, dirs2, files in os.walk(folder_big) for filename in files]\n",
    "files_big.sort()\n",
    "slices_big = [ad.read(file) for file in files_big]\n",
    "\n",
    "## Alignment\n",
    "align_slices, align_slices_big = sd.tl.slice_alignment_bigBin(slices=slices, slices_big=slices_big, alpha=0.1, numItermax=numItermax,\n",
    "                                                              numItermaxEmd=numItermaxEmd, device=torch.device(\"cuda:0\"), verbose=True)\n",
    "\n",
    "## Save the slices after alignment\n",
    "if not os.path.exists(opath):\n",
    "    os.mkdir(opath)\n",
    "for slice in align_slices:\n",
    "    subSave = os.path.join(opath, f\"{slice.obs[slice_col][0]}.h5ad\")\n",
    "    slice.write_h5ad(subSave)\n",
    "\n",
    "## Save the slices_big after alignment\n",
    "if not os.path.exists(opath_big):\n",
    "    os.mkdir(opath_big)\n",
    "for slice in align_slices_big:\n",
    "    subSave_big = os.path.join(opath_big, f\"{slice.obs[slice_col][0]}.h5ad\")\n",
    "    slice.write_h5ad(subSave_big)"
   ],
   "metadata": {
    "collapsed": false,
    "pycharm": {
     "name": "#%%\n"
    }
   }
  },
  {
   "cell_type": "markdown",
   "source": [
    "### 3.Visualize the coordinate image after registration/alignment\n",
    "Here, we will use `sd.pl.spatial_plot`."
   ],
   "metadata": {
    "collapsed": false
   }
  },
  {
   "cell_type": "code",
   "execution_count": null,
   "outputs": [],
   "source": [
    "folder = \"/media/yao/Elements SE/BGI_Paper/L3_new/L3_a/align_adata/L3_a_bin20\"\n",
    "opath = \"/media/yao/Elements SE/BGI_Paper/L3_new/L3_a/align_adata/L3_a_bin20_align_coords.png\"\n",
    "slice_col=\"slice\"\n",
    "spot_size=1\n",
    "# ----------------------------------------------------------------------------------------------------------------------\n",
    "import os\n",
    "import anndata as ad\n",
    "import stDrosophila as sd\n",
    "files = [os.path.join(root, filename) for root, dirs, files in os.walk(folder) for filename in files]\n",
    "files.sort()\n",
    "adata_list = [ad.read(file) for file in files]\n",
    "sd.pl.spatial_plot(adata=adata_list, cluster_col=None, save=opath, slice_col=slice_col, spot_size=spot_size)\n"
   ],
   "metadata": {
    "collapsed": false,
    "pycharm": {
     "name": "#%%\n"
    }
   }
  }
 ],
 "metadata": {
  "kernelspec": {
   "display_name": "Python 3",
   "language": "python",
   "name": "python3"
  },
  "language_info": {
   "codemirror_mode": {
    "name": "ipython",
    "version": 2
   },
   "file_extension": ".py",
   "mimetype": "text/x-python",
   "name": "python",
   "nbconvert_exporter": "python",
   "pygments_lexer": "ipython2",
   "version": "2.7.6"
  }
 },
 "nbformat": 4,
 "nbformat_minor": 0
}