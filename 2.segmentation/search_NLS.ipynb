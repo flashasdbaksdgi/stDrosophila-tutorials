{
 "cells": [
  {
   "cell_type": "markdown",
   "metadata": {
    "collapsed": true,
    "pycharm": {
     "name": "#%% md\n"
    }
   },
   "source": [
    "# Finding nuclear localized genes from lasso files (based on Flymine)"
   ]
  },
  {
   "cell_type": "code",
   "execution_count": 5,
   "outputs": [
    {
     "name": "stdout",
     "output_type": "stream",
     "text": [
      "      DB identifier     CG identifier gene symbol       GO id  \\\n",
      "0       FBgn0039595           AstA-R2     CG10001  GO:0005887   \n",
      "1       FBgn0039595           AstA-R2     CG10001  GO:0016021   \n",
      "2       FBgn0000659               fkh     CG10002  GO:0005634   \n",
      "3       FBgn0000659               fkh     CG10002  GO:0005700   \n",
      "4       FBgn0037972           CG10005     CG10005  GO:0005575   \n",
      "...             ...               ...         ...         ...   \n",
      "18425   FBgn0265097    lncRNA:CR44202     CR44202  GO:0005575   \n",
      "18426   FBgn0265103     asRNA:CR44205     CR44205  GO:0005575   \n",
      "18427   FBgn0265104    lncRNA:CR44206     CR44206  GO:0005575   \n",
      "18428   FBgn0266574  tRNA:Thr-TGT-2-4     CR45107  GO:0005829   \n",
      "18429   FBgn0267229    lncRNA:CR45669     CR45669  GO:0005575   \n",
      "\n",
      "                                     GO name        GO namespace  \\\n",
      "0      integral component of plasma membrane  cellular_component   \n",
      "1             integral component of membrane  cellular_component   \n",
      "2                                    nucleus  cellular_component   \n",
      "3                        polytene chromosome  cellular_component   \n",
      "4                         cellular_component  cellular_component   \n",
      "...                                      ...                 ...   \n",
      "18425                     cellular_component  cellular_component   \n",
      "18426                     cellular_component  cellular_component   \n",
      "18427                     cellular_component  cellular_component   \n",
      "18428                                cytosol  cellular_component   \n",
      "18429                     cellular_component  cellular_component   \n",
      "\n",
      "                                          GO description  \n",
      "0      The component of the plasma membrane consistin...  \n",
      "1      The component of a membrane consisting of the ...  \n",
      "2      A membrane-bounded organelle of eukaryotic cel...  \n",
      "3      A type of chromosome in a polyploid cell, form...  \n",
      "4      A location, relative to cellular compartments ...  \n",
      "...                                                  ...  \n",
      "18425  A location, relative to cellular compartments ...  \n",
      "18426  A location, relative to cellular compartments ...  \n",
      "18427  A location, relative to cellular compartments ...  \n",
      "18428  The part of the cytoplasm that does not contai...  \n",
      "18429  A location, relative to cellular compartments ...  \n",
      "\n",
      "[18430 rows x 7 columns]\n"
     ]
    }
   ],
   "source": [
    "import pandas as pd\n",
    "import stDrosophila as sd\n",
    "\n",
    "lasso = pd.read_csv(r\"D:\\BGIpy37_pytorch113\\E14_16_a\\E14_16_a_bin1\\raw_lasso\\E14-16h_a_S09_bin1.gem\", sep=\"\\t\")\n",
    "lasso_genes = lasso[\"geneID\"].astype(str).unique().tolist()\n",
    "# the GO terms for a particular gene list\n",
    "go_data = sd.od.fm_gene2GO(gene=lasso_genes, gene_identifier=\"symbol\", GO_namespace=\"cellular_component\")\n",
    "go_data.to_excel(\"E14-16h_a_S09_cellular_component.xlsx\", index=False)\n",
    "\n",
    "# find chromosome and nucleus\n",
    "nucleus_data = go_data[go_data[\"GO name\"].str.contains('chromosome|nucleus')]\n",
    "nucleus_data.to_excel(\"E14-16h_a_S09_cellular_component_nucleus.xlsx\", index=False)"
   ],
   "metadata": {
    "collapsed": false,
    "pycharm": {
     "name": "#%%\n"
    }
   }
  }
 ],
 "metadata": {
  "kernelspec": {
   "display_name": "Python 3",
   "language": "python",
   "name": "python3"
  },
  "language_info": {
   "codemirror_mode": {
    "name": "ipython",
    "version": 2
   },
   "file_extension": ".py",
   "mimetype": "text/x-python",
   "name": "python",
   "nbconvert_exporter": "python",
   "pygments_lexer": "ipython2",
   "version": "2.7.6"
  }
 },
 "nbformat": 4,
 "nbformat_minor": 0
}