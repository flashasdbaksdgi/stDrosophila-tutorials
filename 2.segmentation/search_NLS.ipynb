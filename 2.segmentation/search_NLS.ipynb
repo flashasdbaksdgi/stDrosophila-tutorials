{
 "cells": [
  {
   "cell_type": "markdown",
   "metadata": {
    "collapsed": true,
    "pycharm": {
     "name": "#%% md\n"
    }
   },
   "source": [
    "# Finding nuclear localized genes from lasso files (based on Flymine)"
   ]
  },
  {
   "cell_type": "code",
   "execution_count": 1,
   "outputs": [
    {
     "name": "stdout",
     "output_type": "stream",
     "text": [
      "      DB identifier CG identifier gene symbol       GO id  \\\n",
      "2       FBgn0000659           fkh     CG10002  GO:0005634   \n",
      "3       FBgn0000659           fkh     CG10002  GO:0005700   \n",
      "12      FBgn0026400         Noa36     CG10009  GO:0000775   \n",
      "13      FBgn0026400         Noa36     CG10009  GO:0005634   \n",
      "14      FBgn0026400         Noa36     CG10009  GO:0005730   \n",
      "...             ...           ...         ...         ...   \n",
      "18293   FBgn0005411        U2af50      CG9998  GO:0016607   \n",
      "18294   FBgn0005411        U2af50      CG9998  GO:0071004   \n",
      "18295   FBgn0005411        U2af50      CG9998  GO:0071011   \n",
      "18296   FBgn0005411        U2af50      CG9998  GO:0089701   \n",
      "18323   FBgn0020556    lncRNA:bxd     CR31273  GO:0005634   \n",
      "\n",
      "                              GO name        GO namespace  \\\n",
      "2                             nucleus  cellular_component   \n",
      "3                 polytene chromosome  cellular_component   \n",
      "12     chromosome, centromeric region  cellular_component   \n",
      "13                            nucleus  cellular_component   \n",
      "14                          nucleolus  cellular_component   \n",
      "...                               ...                 ...   \n",
      "18293                   nuclear speck  cellular_component   \n",
      "18294          U2-type prespliceosome  cellular_component   \n",
      "18295        precatalytic spliceosome  cellular_component   \n",
      "18296                    U2AF complex  cellular_component   \n",
      "18323                         nucleus  cellular_component   \n",
      "\n",
      "                                          GO description  \n",
      "2      A membrane-bounded organelle of eukaryotic cel...  \n",
      "3      A type of chromosome in a polyploid cell, form...  \n",
      "12     The region of a chromosome that includes the c...  \n",
      "13     A membrane-bounded organelle of eukaryotic cel...  \n",
      "14     A small, dense body one or more of which are p...  \n",
      "...                                                  ...  \n",
      "18293  A discrete extra-nucleolar subnuclear domain, ...  \n",
      "18294  A spliceosomal complex that is formed by assoc...  \n",
      "18295  A spliceosomal complex that is formed by the r...  \n",
      "18296  A heterodimeric protein complex consisting of ...  \n",
      "18323  A membrane-bounded organelle of eukaryotic cel...  \n",
      "\n",
      "[5438 rows x 7 columns]\n"
     ]
    }
   ],
   "source": [
    "import pandas as pd\n",
    "import stDrosophila as sd\n",
    "\n",
    "# load data\n",
    "lasso = pd.read_csv(r\"/media/yao/Elements SE/BGI_Paper/E14_16/lasso/E14-16h_a_bin1/E14-16h_a_S09_bin1.gem\", sep=\"\\t\")\n",
    "lasso_genes = lasso[\"geneID\"].astype(str).unique().tolist()\n",
    "\n",
    "# the GO terms for a particular gene list\n",
    "go_data = sd.od.fm_gene2GO(gene=lasso_genes, gene_identifier=\"symbol\", GO_namespace=\"cellular_component\")\n",
    "# go_data.to_excel(\"E14-16h_a_S09_cellular_component.xlsx\", index=False)\n",
    "\n",
    "# find chromosome and nucleus\n",
    "nucleus_data = go_data[go_data[\"GO name\"].str.contains('chromosome|nucleus')]\n",
    "nucleus_genes = nucleus_data[\"DB identifier\"].unique().tolist()\n",
    "\n",
    "# remove pseudo positives\n",
    "go_filter_data = go_data[go_data[\"DB identifier\"].isin(nucleus_genes)]\n",
    "print(go_filter_data)\n",
    "\n",
    "\n",
    "\n",
    "go_filter_data.to_csv(\"/media/yao/Elements SE/BGI_Paper/E14_16/segmentation/E14-16h_a_S09_cellular_component_nucleus.csv\", index=False, sep=\"\\t\")"
   ],
   "metadata": {
    "collapsed": false,
    "pycharm": {
     "name": "#%%\n"
    }
   }
  }
 ],
 "metadata": {
  "kernelspec": {
   "display_name": "Python 3",
   "language": "python",
   "name": "python3"
  },
  "language_info": {
   "codemirror_mode": {
    "name": "ipython",
    "version": 2
   },
   "file_extension": ".py",
   "mimetype": "text/x-python",
   "name": "python",
   "nbconvert_exporter": "python",
   "pygments_lexer": "ipython2",
   "version": "2.7.6"
  }
 },
 "nbformat": 4,
 "nbformat_minor": 0
}