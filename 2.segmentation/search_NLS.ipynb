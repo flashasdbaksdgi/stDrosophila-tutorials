{
 "cells": [
  {
   "cell_type": "markdown",
   "metadata": {
    "collapsed": true,
    "pycharm": {
     "name": "#%% md\n"
    }
   },
   "source": [
    "# Finding nuclear localized genes from lasso files (based on Flymine)"
   ]
  },
  {
   "cell_type": "code",
   "execution_count": null,
   "outputs": [],
   "source": [
    "import pandas as pd\n",
    "import stDrosophila as sd\n",
    "\n",
    "lasso = pd.read_csv(r\"D:\\BGIpy37_pytorch113\\E14_16_a\\E14_16_a_bin1\\raw_lasso\\E14-16h_a_S09_bin1.gem\", sep=\"\\t\")\n",
    "\n",
    "lasso_genes = lasso[\"geneID\"].unique().tolist()\n",
    "\n",
    "sd."
   ],
   "metadata": {
    "collapsed": false,
    "pycharm": {
     "name": "#%%\n"
    }
   }
  }
 ],
 "metadata": {
  "kernelspec": {
   "display_name": "Python 3",
   "language": "python",
   "name": "python3"
  },
  "language_info": {
   "codemirror_mode": {
    "name": "ipython",
    "version": 2
   },
   "file_extension": ".py",
   "mimetype": "text/x-python",
   "name": "python",
   "nbconvert_exporter": "python",
   "pygments_lexer": "ipython2",
   "version": "2.7.6"
  }
 },
 "nbformat": 4,
 "nbformat_minor": 0
}